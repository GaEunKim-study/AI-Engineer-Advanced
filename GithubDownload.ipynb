{
  "nbformat": 4,
  "nbformat_minor": 0,
  "metadata": {
    "colab": {
      "name": "GithubDownload.ipynb",
      "provenance": []
    },
    "kernelspec": {
      "name": "python3",
      "display_name": "Python 3"
    },
    "language_info": {
      "name": "python"
    },
    "accelerator": "GPU"
  },
  "cells": [
    {
      "cell_type": "code",
      "metadata": {
        "id": "Dyl7mLTlveIl"
      },
      "source": [
        "# google drive server를 연결하기 위한 라이브러리\n",
        "from google.colab import drive"
      ],
      "execution_count": null,
      "outputs": []
    },
    {
      "cell_type": "code",
      "metadata": {
        "id": "T-1oSkkFyJEX",
        "colab": {
          "base_uri": "https://localhost:8080/"
        },
        "outputId": "02a4c37c-2a84-45c6-8e6b-2a5be9cfd562"
      },
      "source": [
        "# 구글 드라이브를 colab server와 연결\n",
        "import os\n",
        "if not os.path.exists('/content/drive'):\n",
        "    drive.mount('/content/drive')"
      ],
      "execution_count": null,
      "outputs": [
        {
          "output_type": "stream",
          "text": [
            "Mounted at /content/drive\n"
          ],
          "name": "stdout"
        }
      ]
    },
    {
      "cell_type": "markdown",
      "metadata": {
        "id": "BNuTJ2YjTywM"
      },
      "source": [
        "### 경로 이동"
      ]
    },
    {
      "cell_type": "code",
      "metadata": {
        "colab": {
          "base_uri": "https://localhost:8080/"
        },
        "id": "FpGzfOqFyJ-r",
        "outputId": "b453c75e-5020-4724-981d-13d5562b9ae6"
      },
      "source": [
        "cd /content/drive/'My Drive'"
      ],
      "execution_count": null,
      "outputs": [
        {
          "output_type": "stream",
          "text": [
            "/content/drive/My Drive\n"
          ],
          "name": "stdout"
        }
      ]
    },
    {
      "cell_type": "code",
      "metadata": {
        "colab": {
          "base_uri": "https://localhost:8080/"
        },
        "id": "pGoc1OCSyP_e",
        "outputId": "33a904fa-aeac-4eec-eeff-62136af1233f"
      },
      "source": [
        "#현재 경로가 어디로 설정되어 있는지\n",
        "!pwd"
      ],
      "execution_count": null,
      "outputs": [
        {
          "output_type": "stream",
          "text": [
            "/content/drive/My Drive\n"
          ],
          "name": "stdout"
        }
      ]
    },
    {
      "cell_type": "markdown",
      "metadata": {
        "id": "bHtZBu7x5dhE"
      },
      "source": [
        "## 아래의 셀에 다운받고자 하는 사이트의 Github주소를 넣어준다."
      ]
    },
    {
      "cell_type": "code",
      "metadata": {
        "colab": {
          "base_uri": "https://localhost:8080/"
        },
        "id": "oFWbS2S-yRj3",
        "outputId": "99794184-461b-4531-a57a-0d03975f5c53"
      },
      "source": [
        "if not os.path.exists('006975'):\n",
        "    !git clone https://github.com/PinkWink/DataScience.git"
      ],
      "execution_count": null,
      "outputs": [
        {
          "output_type": "stream",
          "text": [
            "Cloning into '006975'...\n",
            "remote: Enumerating objects: 102534, done.\u001b[K\n",
            "remote: Total 102534 (delta 0), reused 0 (delta 0), pack-reused 102534\u001b[K\n",
            "Receiving objects: 100% (102534/102534), 202.75 MiB | 7.97 MiB/s, done.\n",
            "Resolving deltas: 100% (11/11), done.\n",
            "warning: Clone succeeded, but checkout failed.\n",
            "You can inspect what was checked out with 'git status'\n",
            "and retry the checkout with 'git checkout -f HEAD'\n",
            "\n",
            "^C\n"
          ],
          "name": "stdout"
        }
      ]
    },
    {
      "cell_type": "code",
      "metadata": {
        "id": "ob7k5_E6y5S8"
      },
      "source": [
        ""
      ],
      "execution_count": null,
      "outputs": []
    }
  ]
}